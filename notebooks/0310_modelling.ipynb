{
 "cells": [
  {
   "cell_type": "code",
   "execution_count": 1,
   "metadata": {},
   "outputs": [],
   "source": [
    "import warnings\n",
    "warnings.filterwarnings('ignore')"
   ]
  },
  {
   "cell_type": "code",
   "execution_count": 2,
   "metadata": {},
   "outputs": [],
   "source": [
    "%matplotlib inline"
   ]
  },
  {
   "cell_type": "code",
   "execution_count": 3,
   "metadata": {},
   "outputs": [],
   "source": [
    "import pandas as pd\n",
    "import numpy as np\n",
    "import os"
   ]
  },
  {
   "cell_type": "code",
   "execution_count": 4,
   "metadata": {},
   "outputs": [
    {
     "data": {
      "text/html": [
       "<div>\n",
       "<style>\n",
       "    .dataframe thead tr:only-child th {\n",
       "        text-align: right;\n",
       "    }\n",
       "\n",
       "    .dataframe thead th {\n",
       "        text-align: left;\n",
       "    }\n",
       "\n",
       "    .dataframe tbody tr th {\n",
       "        vertical-align: top;\n",
       "    }\n",
       "</style>\n",
       "<table border=\"1\" class=\"dataframe\">\n",
       "  <thead>\n",
       "    <tr style=\"text-align: right;\">\n",
       "      <th></th>\n",
       "      <th>zip</th>\n",
       "      <th>price</th>\n",
       "      <th>sqft</th>\n",
       "      <th>bedrooms</th>\n",
       "      <th>sale_type</th>\n",
       "      <th>ZIPCODE</th>\n",
       "      <th>total_parks</th>\n",
       "      <th>total_park_area</th>\n",
       "      <th>total_lines</th>\n",
       "      <th>total_stations</th>\n",
       "      <th>...</th>\n",
       "      <th>2010TotalAcres</th>\n",
       "      <th>Number</th>\n",
       "      <th>2010</th>\n",
       "      <th>2000</th>\n",
       "      <th>total_bus</th>\n",
       "      <th>CigaretteRetailDealer</th>\n",
       "      <th>Newsstand</th>\n",
       "      <th>Laundries</th>\n",
       "      <th>Laundry</th>\n",
       "      <th>SidewalkCafe</th>\n",
       "    </tr>\n",
       "  </thead>\n",
       "  <tbody>\n",
       "    <tr>\n",
       "      <th>0</th>\n",
       "      <td>10001</td>\n",
       "      <td>2488000.0</td>\n",
       "      <td>1536.0</td>\n",
       "      <td>2.0</td>\n",
       "      <td>Condo For Sale</td>\n",
       "      <td>10001.0</td>\n",
       "      <td>33.0</td>\n",
       "      <td>365798.032282</td>\n",
       "      <td>22.0</td>\n",
       "      <td>7.0</td>\n",
       "      <td>...</td>\n",
       "      <td>2664.76</td>\n",
       "      <td>225.147059</td>\n",
       "      <td>117792.0</td>\n",
       "      <td>110137.0</td>\n",
       "      <td>498.0</td>\n",
       "      <td>93.0</td>\n",
       "      <td>23.0</td>\n",
       "      <td>14.0</td>\n",
       "      <td>2.0</td>\n",
       "      <td>9.0</td>\n",
       "    </tr>\n",
       "    <tr>\n",
       "      <th>1</th>\n",
       "      <td>10001</td>\n",
       "      <td>5750000.0</td>\n",
       "      <td>2146.0</td>\n",
       "      <td>3.0</td>\n",
       "      <td>Condo For Sale</td>\n",
       "      <td>10001.0</td>\n",
       "      <td>33.0</td>\n",
       "      <td>365798.032282</td>\n",
       "      <td>22.0</td>\n",
       "      <td>7.0</td>\n",
       "      <td>...</td>\n",
       "      <td>2664.76</td>\n",
       "      <td>225.147059</td>\n",
       "      <td>117792.0</td>\n",
       "      <td>110137.0</td>\n",
       "      <td>498.0</td>\n",
       "      <td>93.0</td>\n",
       "      <td>23.0</td>\n",
       "      <td>14.0</td>\n",
       "      <td>2.0</td>\n",
       "      <td>9.0</td>\n",
       "    </tr>\n",
       "    <tr>\n",
       "      <th>2</th>\n",
       "      <td>10001</td>\n",
       "      <td>2850000.0</td>\n",
       "      <td>2700.0</td>\n",
       "      <td>3.0</td>\n",
       "      <td>Condo For Sale</td>\n",
       "      <td>10001.0</td>\n",
       "      <td>33.0</td>\n",
       "      <td>365798.032282</td>\n",
       "      <td>22.0</td>\n",
       "      <td>7.0</td>\n",
       "      <td>...</td>\n",
       "      <td>2664.76</td>\n",
       "      <td>225.147059</td>\n",
       "      <td>117792.0</td>\n",
       "      <td>110137.0</td>\n",
       "      <td>498.0</td>\n",
       "      <td>93.0</td>\n",
       "      <td>23.0</td>\n",
       "      <td>14.0</td>\n",
       "      <td>2.0</td>\n",
       "      <td>9.0</td>\n",
       "    </tr>\n",
       "    <tr>\n",
       "      <th>3</th>\n",
       "      <td>10001</td>\n",
       "      <td>13880000.0</td>\n",
       "      <td>3364.0</td>\n",
       "      <td>4.0</td>\n",
       "      <td>Condo For Sale</td>\n",
       "      <td>10001.0</td>\n",
       "      <td>33.0</td>\n",
       "      <td>365798.032282</td>\n",
       "      <td>22.0</td>\n",
       "      <td>7.0</td>\n",
       "      <td>...</td>\n",
       "      <td>2664.76</td>\n",
       "      <td>225.147059</td>\n",
       "      <td>117792.0</td>\n",
       "      <td>110137.0</td>\n",
       "      <td>498.0</td>\n",
       "      <td>93.0</td>\n",
       "      <td>23.0</td>\n",
       "      <td>14.0</td>\n",
       "      <td>2.0</td>\n",
       "      <td>9.0</td>\n",
       "    </tr>\n",
       "    <tr>\n",
       "      <th>4</th>\n",
       "      <td>10001</td>\n",
       "      <td>9255000.0</td>\n",
       "      <td>2566.0</td>\n",
       "      <td>3.0</td>\n",
       "      <td>Condo For Sale</td>\n",
       "      <td>10001.0</td>\n",
       "      <td>33.0</td>\n",
       "      <td>365798.032282</td>\n",
       "      <td>22.0</td>\n",
       "      <td>7.0</td>\n",
       "      <td>...</td>\n",
       "      <td>2664.76</td>\n",
       "      <td>225.147059</td>\n",
       "      <td>117792.0</td>\n",
       "      <td>110137.0</td>\n",
       "      <td>498.0</td>\n",
       "      <td>93.0</td>\n",
       "      <td>23.0</td>\n",
       "      <td>14.0</td>\n",
       "      <td>2.0</td>\n",
       "      <td>9.0</td>\n",
       "    </tr>\n",
       "  </tbody>\n",
       "</table>\n",
       "<p>5 rows × 45 columns</p>\n",
       "</div>"
      ],
      "text/plain": [
       "     zip       price    sqft  bedrooms       sale_type  ZIPCODE  total_parks  \\\n",
       "0  10001   2488000.0  1536.0       2.0  Condo For Sale  10001.0         33.0   \n",
       "1  10001   5750000.0  2146.0       3.0  Condo For Sale  10001.0         33.0   \n",
       "2  10001   2850000.0  2700.0       3.0  Condo For Sale  10001.0         33.0   \n",
       "3  10001  13880000.0  3364.0       4.0  Condo For Sale  10001.0         33.0   \n",
       "4  10001   9255000.0  2566.0       3.0  Condo For Sale  10001.0         33.0   \n",
       "\n",
       "   total_park_area  total_lines  total_stations      ...       2010TotalAcres  \\\n",
       "0    365798.032282         22.0             7.0      ...              2664.76   \n",
       "1    365798.032282         22.0             7.0      ...              2664.76   \n",
       "2    365798.032282         22.0             7.0      ...              2664.76   \n",
       "3    365798.032282         22.0             7.0      ...              2664.76   \n",
       "4    365798.032282         22.0             7.0      ...              2664.76   \n",
       "\n",
       "       Number      2010      2000  total_bus  CigaretteRetailDealer  \\\n",
       "0  225.147059  117792.0  110137.0      498.0                   93.0   \n",
       "1  225.147059  117792.0  110137.0      498.0                   93.0   \n",
       "2  225.147059  117792.0  110137.0      498.0                   93.0   \n",
       "3  225.147059  117792.0  110137.0      498.0                   93.0   \n",
       "4  225.147059  117792.0  110137.0      498.0                   93.0   \n",
       "\n",
       "   Newsstand  Laundries  Laundry  SidewalkCafe  \n",
       "0       23.0       14.0      2.0           9.0  \n",
       "1       23.0       14.0      2.0           9.0  \n",
       "2       23.0       14.0      2.0           9.0  \n",
       "3       23.0       14.0      2.0           9.0  \n",
       "4       23.0       14.0      2.0           9.0  \n",
       "\n",
       "[5 rows x 45 columns]"
      ]
     },
     "execution_count": 4,
     "metadata": {},
     "output_type": "execute_result"
    }
   ],
   "source": [
    "path = '../data/features_180310.csv'\n",
    "df = pd.read_csv(path)\n",
    "df.rename(columns=lambda x: x.replace(',','').replace(' ',''),inplace=True)\n",
    "df.head(5)"
   ]
  },
  {
   "cell_type": "code",
   "execution_count": 5,
   "metadata": {},
   "outputs": [],
   "source": [
    "from sklearn.preprocessing import LabelEncoder\n",
    "\n",
    "lbl = LabelEncoder()\n",
    "lbl.fit(df['sale_type'].values)\n",
    "df['s_type'] = lbl.transform(df['sale_type'].values)"
   ]
  },
  {
   "cell_type": "code",
   "execution_count": 6,
   "metadata": {},
   "outputs": [],
   "source": [
    "df = df[df['price'] < df['price'].quantile(.9)]\n",
    "df.drop(['zip','ZIPCODE'], axis=1, inplace=True)\n",
    "\n",
    "numerics = ['int16', 'int32', 'int64', 'float16', 'float32', 'float64']\n",
    "df_numeric = df.select_dtypes(include=numerics)"
   ]
  },
  {
   "cell_type": "code",
   "execution_count": 7,
   "metadata": {},
   "outputs": [
    {
     "data": {
      "text/plain": [
       "(9134, 43)"
      ]
     },
     "execution_count": 7,
     "metadata": {},
     "output_type": "execute_result"
    }
   ],
   "source": [
    "df_numeric.shape"
   ]
  },
  {
   "cell_type": "code",
   "execution_count": 8,
   "metadata": {},
   "outputs": [
    {
     "data": {
      "text/plain": [
       "(9134, 43)"
      ]
     },
     "execution_count": 8,
     "metadata": {},
     "output_type": "execute_result"
    }
   ],
   "source": [
    "df_numeric.dropna(inplace=True)\n",
    "df_numeric.shape"
   ]
  },
  {
   "cell_type": "code",
   "execution_count": 9,
   "metadata": {},
   "outputs": [
    {
     "data": {
      "text/plain": [
       "Index(['price', 'sqft', 'bedrooms', 'total_parks', 'total_park_area',\n",
       "       'total_lines', 'total_stations', '$1under$25000', '$100000under$200000',\n",
       "       '$200000ormore', '$25000under$50000', '$50000under$75000',\n",
       "       '$75000under$100000', 'total_crimes', 'BURGLARY', 'DANGEROUSWEAPONS',\n",
       "       'DANGEROUSDRUGS', 'FELONYASSAULT', 'ROBBERY', 'FELONY', 'MISDEMEANOR',\n",
       "       'VIOLATION', 'total_projects', 'White', 'Black', 'TotalPop', 'Asian',\n",
       "       'Income', 'Poverty', 'Unemployment', 'Percent', '2010PersonsPerAcre',\n",
       "       '2010TotalAcres', 'Number', '2010', '2000', 'total_bus',\n",
       "       'CigaretteRetailDealer', 'Newsstand', 'Laundries', 'Laundry',\n",
       "       'SidewalkCafe', 's_type'],\n",
       "      dtype='object')"
      ]
     },
     "execution_count": 9,
     "metadata": {},
     "output_type": "execute_result"
    }
   ],
   "source": [
    "df_numeric.columns"
   ]
  },
  {
   "cell_type": "code",
   "execution_count": 10,
   "metadata": {},
   "outputs": [],
   "source": [
    "X = df_numeric.drop('price',axis=1)\n",
    "target = df_numeric['price']"
   ]
  },
  {
   "cell_type": "code",
   "execution_count": 11,
   "metadata": {},
   "outputs": [],
   "source": [
    "from sklearn.preprocessing import StandardScaler\n",
    "scaler = StandardScaler()\n",
    "predictors = scaler.fit_transform(X)\n",
    "scaled_data = pd.DataFrame(predictors, columns=X.columns)"
   ]
  },
  {
   "cell_type": "code",
   "execution_count": 12,
   "metadata": {},
   "outputs": [
    {
     "name": "stderr",
     "output_type": "stream",
     "text": [
      "/usr/local/lib/python3.6/site-packages/sklearn/cross_validation.py:41: DeprecationWarning: This module was deprecated in version 0.18 in favor of the model_selection module into which all the refactored classes and functions are moved. Also note that the interface of the new CV iterators are different from that of this module. This module will be removed in 0.20.\n",
      "  \"This module will be removed in 0.20.\", DeprecationWarning)\n"
     ]
    }
   ],
   "source": [
    "from sklearn.cross_validation import train_test_split\n",
    "\n",
    "pred_train, pred_test, tar_train, tar_test = train_test_split(X, \n",
    "                            target, test_size=.3, random_state=123)"
   ]
  },
  {
   "cell_type": "code",
   "execution_count": 13,
   "metadata": {},
   "outputs": [
    {
     "data": {
      "text/plain": [
       "LinearRegression(copy_X=True, fit_intercept=True, n_jobs=1, normalize=False)"
      ]
     },
     "execution_count": 13,
     "metadata": {},
     "output_type": "execute_result"
    }
   ],
   "source": [
    "from sklearn.linear_model import LinearRegression\n",
    "\n",
    "lin_model = LinearRegression()\n",
    "lin_model.fit(pred_train, tar_train)"
   ]
  },
  {
   "cell_type": "code",
   "execution_count": 14,
   "metadata": {},
   "outputs": [
    {
     "name": "stdout",
     "output_type": "stream",
     "text": [
      "model score: 0.492520957352\n"
     ]
    }
   ],
   "source": [
    "score = lin_model.score(pred_test, tar_test)\n",
    "print('model score: %s' % score)"
   ]
  },
  {
   "cell_type": "code",
   "execution_count": 15,
   "metadata": {},
   "outputs": [],
   "source": [
    "# temp_X = df_numeric[['sqft','Sidewalk Cafe','total_stations',\n",
    "#                      '$100,000 under $200,000','$200,000 or more',\n",
    "#                     'bedrooms','total_lines','Newsstand','Laundries']]"
   ]
  },
  {
   "cell_type": "code",
   "execution_count": 16,
   "metadata": {},
   "outputs": [],
   "source": [
    "# pred_train, pred_test, tar_train, tar_test = train_test_split(temp_X, \n",
    "#                             target, test_size=.3, random_state=123)\n",
    "\n",
    "# lin_model = LinearRegression()\n",
    "# lin_model.fit(pred_train, tar_train)"
   ]
  },
  {
   "cell_type": "code",
   "execution_count": 17,
   "metadata": {},
   "outputs": [],
   "source": [
    "# score = lin_model.score(pred_test, tar_test)\n",
    "# print('model score: %s' % score)"
   ]
  },
  {
   "cell_type": "code",
   "execution_count": 18,
   "metadata": {},
   "outputs": [],
   "source": [
    "from sklearn.tree import DecisionTreeRegressor\n",
    "from sklearn.ensemble import RandomForestRegressor\n",
    "\n",
    "features_to_use = list(X.columns)\n",
    "d = []"
   ]
  },
  {
   "cell_type": "code",
   "execution_count": 19,
   "metadata": {},
   "outputs": [],
   "source": [
    "n_features_remove = 1\n",
    "min_features = 4"
   ]
  },
  {
   "cell_type": "code",
   "execution_count": 20,
   "metadata": {},
   "outputs": [],
   "source": [
    "model_scores = []\n",
    "n_feats = []"
   ]
  },
  {
   "cell_type": "code",
   "execution_count": 21,
   "metadata": {},
   "outputs": [],
   "source": [
    "while len(features_to_use)>=min_features:\n",
    "    pred_trainRF = pred_train[features_to_use]\n",
    "    pred_testRF = pred_test[features_to_use]\n",
    "    \n",
    "    # Build regressor\n",
    "    rgr = DecisionTreeRegressor(random_state=123,max_depth=None)\n",
    "    rgr.fit(pred_trainRF, tar_train)\n",
    "    \n",
    "    # Model scores\n",
    "    r_score = rgr.score(pred_testRF, tar_test)\n",
    "    d.append({'score': r_score, 'n_features': len(features_to_use),\n",
    "             'features_used': ','.join(features_to_use),\n",
    "             'feature_importances': rgr.feature_importances_})\n",
    "    \n",
    "    # sort features by importance\n",
    "    sorted_idx = np.argsort(rgr.feature_importances_)\n",
    "    # reverse order\n",
    "    sorted_idx = sorted_idx[::-1]\n",
    "    # remove worst performing feature\n",
    "    sorted_idx = sorted_idx[:-n_features_remove]\n",
    "    \n",
    "    # swap features list with the trimmed features\n",
    "    temp = features_to_use\n",
    "    features_to_use=[]\n",
    "    for feat in sorted_idx:\n",
    "        features_to_use.append(temp[feat])\n",
    "\n",
    "results_df = pd.DataFrame(d)"
   ]
  },
  {
   "cell_type": "code",
   "execution_count": 22,
   "metadata": {},
   "outputs": [
    {
     "data": {
      "text/html": [
       "<div>\n",
       "<style>\n",
       "    .dataframe thead tr:only-child th {\n",
       "        text-align: right;\n",
       "    }\n",
       "\n",
       "    .dataframe thead th {\n",
       "        text-align: left;\n",
       "    }\n",
       "\n",
       "    .dataframe tbody tr th {\n",
       "        vertical-align: top;\n",
       "    }\n",
       "</style>\n",
       "<table border=\"1\" class=\"dataframe\">\n",
       "  <thead>\n",
       "    <tr style=\"text-align: right;\">\n",
       "      <th></th>\n",
       "      <th>feature_importances</th>\n",
       "      <th>features_used</th>\n",
       "      <th>n_features</th>\n",
       "      <th>score</th>\n",
       "    </tr>\n",
       "  </thead>\n",
       "  <tbody>\n",
       "    <tr>\n",
       "      <th>23</th>\n",
       "      <td>[0.53553344175, 0.214434826992, 0.057273048977...</td>\n",
       "      <td>sqft,Income,SidewalkCafe,bedrooms,s_type,White...</td>\n",
       "      <td>19</td>\n",
       "      <td>0.703227</td>\n",
       "    </tr>\n",
       "    <tr>\n",
       "      <th>9</th>\n",
       "      <td>[0.53364731339, 0.213263160945, 0.054658393720...</td>\n",
       "      <td>sqft,Income,SidewalkCafe,bedrooms,s_type,White...</td>\n",
       "      <td>33</td>\n",
       "      <td>0.702583</td>\n",
       "    </tr>\n",
       "    <tr>\n",
       "      <th>19</th>\n",
       "      <td>[0.534058026888, 0.213745593282, 0.05575158609...</td>\n",
       "      <td>sqft,Income,SidewalkCafe,bedrooms,s_type,White...</td>\n",
       "      <td>23</td>\n",
       "      <td>0.700671</td>\n",
       "    </tr>\n",
       "    <tr>\n",
       "      <th>17</th>\n",
       "      <td>[0.533829196351, 0.213326599588, 0.05469614480...</td>\n",
       "      <td>sqft,Income,SidewalkCafe,bedrooms,s_type,White...</td>\n",
       "      <td>25</td>\n",
       "      <td>0.700548</td>\n",
       "    </tr>\n",
       "    <tr>\n",
       "      <th>24</th>\n",
       "      <td>[0.534429615443, 0.215514192564, 0.05830772387...</td>\n",
       "      <td>sqft,Income,SidewalkCafe,bedrooms,s_type,White...</td>\n",
       "      <td>18</td>\n",
       "      <td>0.700129</td>\n",
       "    </tr>\n",
       "    <tr>\n",
       "      <th>12</th>\n",
       "      <td>[0.534864062165, 0.213617044218, 0.05451588610...</td>\n",
       "      <td>sqft,Income,SidewalkCafe,bedrooms,s_type,White...</td>\n",
       "      <td>30</td>\n",
       "      <td>0.700052</td>\n",
       "    </tr>\n",
       "    <tr>\n",
       "      <th>10</th>\n",
       "      <td>[0.535235369412, 0.212422184513, 0.05440085549...</td>\n",
       "      <td>sqft,Income,SidewalkCafe,bedrooms,s_type,White...</td>\n",
       "      <td>32</td>\n",
       "      <td>0.699864</td>\n",
       "    </tr>\n",
       "    <tr>\n",
       "      <th>22</th>\n",
       "      <td>[0.535425450273, 0.215188803093, 0.05766249000...</td>\n",
       "      <td>sqft,Income,SidewalkCafe,bedrooms,s_type,White...</td>\n",
       "      <td>20</td>\n",
       "      <td>0.699279</td>\n",
       "    </tr>\n",
       "    <tr>\n",
       "      <th>13</th>\n",
       "      <td>[0.535085395726, 0.212732703668, 0.05445491639...</td>\n",
       "      <td>sqft,Income,SidewalkCafe,bedrooms,s_type,White...</td>\n",
       "      <td>29</td>\n",
       "      <td>0.698256</td>\n",
       "    </tr>\n",
       "    <tr>\n",
       "      <th>21</th>\n",
       "      <td>[0.534401370236, 0.214088725113, 0.05651147882...</td>\n",
       "      <td>sqft,Income,SidewalkCafe,bedrooms,s_type,White...</td>\n",
       "      <td>21</td>\n",
       "      <td>0.697707</td>\n",
       "    </tr>\n",
       "  </tbody>\n",
       "</table>\n",
       "</div>"
      ],
      "text/plain": [
       "                                  feature_importances  \\\n",
       "23  [0.53553344175, 0.214434826992, 0.057273048977...   \n",
       "9   [0.53364731339, 0.213263160945, 0.054658393720...   \n",
       "19  [0.534058026888, 0.213745593282, 0.05575158609...   \n",
       "17  [0.533829196351, 0.213326599588, 0.05469614480...   \n",
       "24  [0.534429615443, 0.215514192564, 0.05830772387...   \n",
       "12  [0.534864062165, 0.213617044218, 0.05451588610...   \n",
       "10  [0.535235369412, 0.212422184513, 0.05440085549...   \n",
       "22  [0.535425450273, 0.215188803093, 0.05766249000...   \n",
       "13  [0.535085395726, 0.212732703668, 0.05445491639...   \n",
       "21  [0.534401370236, 0.214088725113, 0.05651147882...   \n",
       "\n",
       "                                        features_used  n_features     score  \n",
       "23  sqft,Income,SidewalkCafe,bedrooms,s_type,White...          19  0.703227  \n",
       "9   sqft,Income,SidewalkCafe,bedrooms,s_type,White...          33  0.702583  \n",
       "19  sqft,Income,SidewalkCafe,bedrooms,s_type,White...          23  0.700671  \n",
       "17  sqft,Income,SidewalkCafe,bedrooms,s_type,White...          25  0.700548  \n",
       "24  sqft,Income,SidewalkCafe,bedrooms,s_type,White...          18  0.700129  \n",
       "12  sqft,Income,SidewalkCafe,bedrooms,s_type,White...          30  0.700052  \n",
       "10  sqft,Income,SidewalkCafe,bedrooms,s_type,White...          32  0.699864  \n",
       "22  sqft,Income,SidewalkCafe,bedrooms,s_type,White...          20  0.699279  \n",
       "13  sqft,Income,SidewalkCafe,bedrooms,s_type,White...          29  0.698256  \n",
       "21  sqft,Income,SidewalkCafe,bedrooms,s_type,White...          21  0.697707  "
      ]
     },
     "execution_count": 22,
     "metadata": {},
     "output_type": "execute_result"
    }
   ],
   "source": [
    "results_df.sort_values(by='score',ascending=False,inplace=True)\n",
    "results_df.head(10)"
   ]
  },
  {
   "cell_type": "code",
   "execution_count": 23,
   "metadata": {},
   "outputs": [
    {
     "data": {
      "image/png": "[encoded data removed]",
      "text/plain": [
       "<matplotlib.figure.Figure at 0x10d0523c8>"
      ]
     },
     "metadata": {},
     "output_type": "display_data"
    }
   ],
   "source": [
    "import matplotlib.pylab as plt\n",
    "\n",
    "feature_names = results_df['features_used'].iloc[0]\n",
    "feature_names = feature_names.split(',')\n",
    "plt.figure()\n",
    "plt.title(\"Feature importances\")\n",
    "plt.bar(range(len(feature_names)), results_df['feature_importances'].iloc[0],\n",
    "       color=\"r\", align=\"center\")\n",
    "plt.xticks(range(len(feature_names)), feature_names)\n",
    "plt.xticks(rotation=90, size=8)\n",
    "plt.xlim([-1, len(feature_names)])\n",
    "plt.show()"
   ]
  },
  {
   "cell_type": "code",
   "execution_count": 24,
   "metadata": {},
   "outputs": [],
   "source": [
    "best_feature_names = results_df['features_used'].iloc[0]"
   ]
  },
  {
   "cell_type": "code",
   "execution_count": 25,
   "metadata": {},
   "outputs": [
    {
     "name": "stdout",
     "output_type": "stream",
     "text": [
      "['sqft', 'Income', 'SidewalkCafe', 'bedrooms', 's_type', 'White', '2010PersonsPerAcre', 'Unemployment', '2010TotalAcres', 'Poverty', 'CigaretteRetailDealer', '$200000ormore', 'total_parks', 'TotalPop', 'DANGEROUSDRUGS', 'Black', 'Number', 'total_lines', '$50000under$75000']\n"
     ]
    }
   ],
   "source": [
    "best_feature_names = best_feature_names.split(',')\n",
    "print(best_feature_names)"
   ]
  },
  {
   "cell_type": "code",
   "execution_count": 26,
   "metadata": {},
   "outputs": [],
   "source": [
    "# from sklearn.svm import SVR\n",
    "# from sklearn.grid_search import GridSearchCV\n",
    "\n",
    "# parameters = { 'gamma': np.linspace(.001,1,num=5), \n",
    "#              'C': np.linspace(.001,1,num=5), \n",
    "#               'epsilon': np.linspace(.001,1,num=5)}\n",
    "# model = GridSearchCV(SVR(kernel='rbf'), \n",
    "#                      parameters).fit(pred_train[best_feature_names],\n",
    "#                                     tar_train)"
   ]
  },
  {
   "cell_type": "code",
   "execution_count": 27,
   "metadata": {},
   "outputs": [],
   "source": [
    "# model.score(pred_test[best_feature_names], tar_test)"
   ]
  }
 ],
 "metadata": {
  "kernelspec": {
   "display_name": "Python 3",
   "language": "python",
   "name": "python3"
  },
  "language_info": {
   "codemirror_mode": {
    "name": "ipython",
    "version": 3
   },
   "file_extension": ".py",
   "mimetype": "text/x-python",
   "name": "python",
   "nbconvert_exporter": "python",
   "pygments_lexer": "ipython3",
   "version": "3.6.2"
  }
 },
 "nbformat": 4,
 "nbformat_minor": 2
}
