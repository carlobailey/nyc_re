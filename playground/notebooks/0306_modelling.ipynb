{
 "cells": [
  {
   "cell_type": "code",
   "execution_count": 5,
   "metadata": {},
   "outputs": [],
   "source": [
    "import warnings\n",
    "warnings.filterwarnings('ignore')"
   ]
  },
  {
   "cell_type": "code",
   "execution_count": 6,
   "metadata": {},
   "outputs": [],
   "source": [
    "%matplotlib inline"
   ]
  },
  {
   "cell_type": "code",
   "execution_count": 7,
   "metadata": {},
   "outputs": [],
   "source": [
    "import pandas as pd\n",
    "import numpy as np\n",
    "import os"
   ]
  },
  {
   "cell_type": "code",
   "execution_count": 8,
   "metadata": {},
   "outputs": [
    {
     "data": {
      "text/html": [
       "<div>\n",
       "<style>\n",
       "    .dataframe thead tr:only-child th {\n",
       "        text-align: right;\n",
       "    }\n",
       "\n",
       "    .dataframe thead th {\n",
       "        text-align: left;\n",
       "    }\n",
       "\n",
       "    .dataframe tbody tr th {\n",
       "        vertical-align: top;\n",
       "    }\n",
       "</style>\n",
       "<table border=\"1\" class=\"dataframe\">\n",
       "  <thead>\n",
       "    <tr style=\"text-align: right;\">\n",
       "      <th></th>\n",
       "      <th>zip</th>\n",
       "      <th>price</th>\n",
       "      <th>sqft</th>\n",
       "      <th>bedrooms</th>\n",
       "      <th>sale_type</th>\n",
       "      <th>ZIPCODE</th>\n",
       "      <th>total_parks</th>\n",
       "      <th>total_park_area</th>\n",
       "      <th>total_lines</th>\n",
       "      <th>total_stations</th>\n",
       "      <th>...</th>\n",
       "      <th>TotalPop</th>\n",
       "      <th>2000</th>\n",
       "      <th>2010</th>\n",
       "      <th>2010TotalAcres</th>\n",
       "      <th>total_bus</th>\n",
       "      <th>CigaretteRetailDealer</th>\n",
       "      <th>Newsstand</th>\n",
       "      <th>Laundries</th>\n",
       "      <th>Laundry</th>\n",
       "      <th>SidewalkCafe</th>\n",
       "    </tr>\n",
       "  </thead>\n",
       "  <tbody>\n",
       "    <tr>\n",
       "      <th>0</th>\n",
       "      <td>10001</td>\n",
       "      <td>2488000.0</td>\n",
       "      <td>1536.0</td>\n",
       "      <td>2.0</td>\n",
       "      <td>Condo For Sale</td>\n",
       "      <td>10001.0</td>\n",
       "      <td>33.0</td>\n",
       "      <td>365798.032282</td>\n",
       "      <td>22.0</td>\n",
       "      <td>7.0</td>\n",
       "      <td>...</td>\n",
       "      <td>135500.0</td>\n",
       "      <td>110137.0</td>\n",
       "      <td>117792.0</td>\n",
       "      <td>2664.76</td>\n",
       "      <td>498.0</td>\n",
       "      <td>93.0</td>\n",
       "      <td>23.0</td>\n",
       "      <td>14.0</td>\n",
       "      <td>2.0</td>\n",
       "      <td>9.0</td>\n",
       "    </tr>\n",
       "    <tr>\n",
       "      <th>1</th>\n",
       "      <td>10001</td>\n",
       "      <td>5750000.0</td>\n",
       "      <td>2146.0</td>\n",
       "      <td>3.0</td>\n",
       "      <td>Condo For Sale</td>\n",
       "      <td>10001.0</td>\n",
       "      <td>33.0</td>\n",
       "      <td>365798.032282</td>\n",
       "      <td>22.0</td>\n",
       "      <td>7.0</td>\n",
       "      <td>...</td>\n",
       "      <td>135500.0</td>\n",
       "      <td>110137.0</td>\n",
       "      <td>117792.0</td>\n",
       "      <td>2664.76</td>\n",
       "      <td>498.0</td>\n",
       "      <td>93.0</td>\n",
       "      <td>23.0</td>\n",
       "      <td>14.0</td>\n",
       "      <td>2.0</td>\n",
       "      <td>9.0</td>\n",
       "    </tr>\n",
       "    <tr>\n",
       "      <th>2</th>\n",
       "      <td>10001</td>\n",
       "      <td>2850000.0</td>\n",
       "      <td>2700.0</td>\n",
       "      <td>3.0</td>\n",
       "      <td>Condo For Sale</td>\n",
       "      <td>10001.0</td>\n",
       "      <td>33.0</td>\n",
       "      <td>365798.032282</td>\n",
       "      <td>22.0</td>\n",
       "      <td>7.0</td>\n",
       "      <td>...</td>\n",
       "      <td>135500.0</td>\n",
       "      <td>110137.0</td>\n",
       "      <td>117792.0</td>\n",
       "      <td>2664.76</td>\n",
       "      <td>498.0</td>\n",
       "      <td>93.0</td>\n",
       "      <td>23.0</td>\n",
       "      <td>14.0</td>\n",
       "      <td>2.0</td>\n",
       "      <td>9.0</td>\n",
       "    </tr>\n",
       "    <tr>\n",
       "      <th>3</th>\n",
       "      <td>10001</td>\n",
       "      <td>13880000.0</td>\n",
       "      <td>3364.0</td>\n",
       "      <td>4.0</td>\n",
       "      <td>Condo For Sale</td>\n",
       "      <td>10001.0</td>\n",
       "      <td>33.0</td>\n",
       "      <td>365798.032282</td>\n",
       "      <td>22.0</td>\n",
       "      <td>7.0</td>\n",
       "      <td>...</td>\n",
       "      <td>135500.0</td>\n",
       "      <td>110137.0</td>\n",
       "      <td>117792.0</td>\n",
       "      <td>2664.76</td>\n",
       "      <td>498.0</td>\n",
       "      <td>93.0</td>\n",
       "      <td>23.0</td>\n",
       "      <td>14.0</td>\n",
       "      <td>2.0</td>\n",
       "      <td>9.0</td>\n",
       "    </tr>\n",
       "    <tr>\n",
       "      <th>4</th>\n",
       "      <td>10001</td>\n",
       "      <td>9255000.0</td>\n",
       "      <td>2566.0</td>\n",
       "      <td>3.0</td>\n",
       "      <td>Condo For Sale</td>\n",
       "      <td>10001.0</td>\n",
       "      <td>33.0</td>\n",
       "      <td>365798.032282</td>\n",
       "      <td>22.0</td>\n",
       "      <td>7.0</td>\n",
       "      <td>...</td>\n",
       "      <td>135500.0</td>\n",
       "      <td>110137.0</td>\n",
       "      <td>117792.0</td>\n",
       "      <td>2664.76</td>\n",
       "      <td>498.0</td>\n",
       "      <td>93.0</td>\n",
       "      <td>23.0</td>\n",
       "      <td>14.0</td>\n",
       "      <td>2.0</td>\n",
       "      <td>9.0</td>\n",
       "    </tr>\n",
       "  </tbody>\n",
       "</table>\n",
       "<p>5 rows × 36 columns</p>\n",
       "</div>"
      ],
      "text/plain": [
       "     zip       price    sqft  bedrooms       sale_type  ZIPCODE  total_parks  \\\n",
       "0  10001   2488000.0  1536.0       2.0  Condo For Sale  10001.0         33.0   \n",
       "1  10001   5750000.0  2146.0       3.0  Condo For Sale  10001.0         33.0   \n",
       "2  10001   2850000.0  2700.0       3.0  Condo For Sale  10001.0         33.0   \n",
       "3  10001  13880000.0  3364.0       4.0  Condo For Sale  10001.0         33.0   \n",
       "4  10001   9255000.0  2566.0       3.0  Condo For Sale  10001.0         33.0   \n",
       "\n",
       "   total_park_area  total_lines  total_stations      ...       TotalPop  \\\n",
       "0    365798.032282         22.0             7.0      ...       135500.0   \n",
       "1    365798.032282         22.0             7.0      ...       135500.0   \n",
       "2    365798.032282         22.0             7.0      ...       135500.0   \n",
       "3    365798.032282         22.0             7.0      ...       135500.0   \n",
       "4    365798.032282         22.0             7.0      ...       135500.0   \n",
       "\n",
       "       2000      2010  2010TotalAcres  total_bus  CigaretteRetailDealer  \\\n",
       "0  110137.0  117792.0         2664.76      498.0                   93.0   \n",
       "1  110137.0  117792.0         2664.76      498.0                   93.0   \n",
       "2  110137.0  117792.0         2664.76      498.0                   93.0   \n",
       "3  110137.0  117792.0         2664.76      498.0                   93.0   \n",
       "4  110137.0  117792.0         2664.76      498.0                   93.0   \n",
       "\n",
       "   Newsstand  Laundries  Laundry  SidewalkCafe  \n",
       "0       23.0       14.0      2.0           9.0  \n",
       "1       23.0       14.0      2.0           9.0  \n",
       "2       23.0       14.0      2.0           9.0  \n",
       "3       23.0       14.0      2.0           9.0  \n",
       "4       23.0       14.0      2.0           9.0  \n",
       "\n",
       "[5 rows x 36 columns]"
      ]
     },
     "execution_count": 8,
     "metadata": {},
     "output_type": "execute_result"
    }
   ],
   "source": [
    "path = '../data/features_180228.csv'\n",
    "df = pd.read_csv(path)\n",
    "df.rename(columns=lambda x: x.replace(',','').replace(' ',''),inplace=True)\n",
    "df.head(5)"
   ]
  },
  {
   "cell_type": "code",
   "execution_count": 9,
   "metadata": {},
   "outputs": [],
   "source": [
    "from sklearn.preprocessing import LabelEncoder\n",
    "\n",
    "lbl = LabelEncoder()\n",
    "lbl.fit(df['sale_type'].values)\n",
    "df['s_type'] = lbl.transform(df['sale_type'].values)"
   ]
  },
  {
   "cell_type": "code",
   "execution_count": 10,
   "metadata": {},
   "outputs": [],
   "source": [
    "df = df[df['price'] < df['price'].quantile(.9)]\n",
    "df.drop(['zip','ZIPCODE'], axis=1, inplace=True)\n",
    "\n",
    "numerics = ['int16', 'int32', 'int64', 'float16', 'float32', 'float64']\n",
    "df_numeric = df.select_dtypes(include=numerics)"
   ]
  },
  {
   "cell_type": "code",
   "execution_count": 11,
   "metadata": {},
   "outputs": [
    {
     "data": {
      "text/plain": [
       "(9134, 34)"
      ]
     },
     "execution_count": 11,
     "metadata": {},
     "output_type": "execute_result"
    }
   ],
   "source": [
    "df_numeric.shape"
   ]
  },
  {
   "cell_type": "code",
   "execution_count": 12,
   "metadata": {},
   "outputs": [
    {
     "data": {
      "text/plain": [
       "(9134, 34)"
      ]
     },
     "execution_count": 12,
     "metadata": {},
     "output_type": "execute_result"
    }
   ],
   "source": [
    "df_numeric.dropna(inplace=True)\n",
    "df_numeric.shape"
   ]
  },
  {
   "cell_type": "code",
   "execution_count": 13,
   "metadata": {},
   "outputs": [
    {
     "data": {
      "text/plain": [
       "Index(['price', 'sqft', 'bedrooms', 'total_parks', 'total_park_area',\n",
       "       'total_lines', 'total_stations', '$1under$25000', '$100000under$200000',\n",
       "       '$200000ormore', '$25000under$50000', '$50000under$75000',\n",
       "       '$75000under$100000', 'total_crimes', 'BURGLARY', 'DANGEROUSWEAPONS',\n",
       "       'DANGEROUSDRUGS', 'FELONYASSAULT', 'ROBBERY', 'FELONY', 'MISDEMEANOR',\n",
       "       'VIOLATION', 'total_projects', 'TotalPop', '2000', '2010',\n",
       "       '2010TotalAcres', 'total_bus', 'CigaretteRetailDealer', 'Newsstand',\n",
       "       'Laundries', 'Laundry', 'SidewalkCafe', 's_type'],\n",
       "      dtype='object')"
      ]
     },
     "execution_count": 13,
     "metadata": {},
     "output_type": "execute_result"
    }
   ],
   "source": [
    "df_numeric.columns"
   ]
  },
  {
   "cell_type": "code",
   "execution_count": 14,
   "metadata": {},
   "outputs": [],
   "source": [
    "X = df_numeric.drop('price',axis=1)\n",
    "target = df_numeric['price']"
   ]
  },
  {
   "cell_type": "code",
   "execution_count": 15,
   "metadata": {},
   "outputs": [],
   "source": [
    "from sklearn.preprocessing import StandardScaler\n",
    "scaler = StandardScaler()\n",
    "predictors = scaler.fit_transform(X)\n",
    "scaled_data = pd.DataFrame(predictors, columns=X.columns)"
   ]
  },
  {
   "cell_type": "code",
   "execution_count": 16,
   "metadata": {},
   "outputs": [
    {
     "name": "stderr",
     "output_type": "stream",
     "text": [
      "/usr/local/lib/python3.6/site-packages/sklearn/cross_validation.py:41: DeprecationWarning: This module was deprecated in version 0.18 in favor of the model_selection module into which all the refactored classes and functions are moved. Also note that the interface of the new CV iterators are different from that of this module. This module will be removed in 0.20.\n",
      "  \"This module will be removed in 0.20.\", DeprecationWarning)\n"
     ]
    }
   ],
   "source": [
    "from sklearn.cross_validation import train_test_split\n",
    "\n",
    "pred_train, pred_test, tar_train, tar_test = train_test_split(X, \n",
    "                            target, test_size=.3, random_state=123)"
   ]
  },
  {
   "cell_type": "code",
   "execution_count": 17,
   "metadata": {},
   "outputs": [
    {
     "data": {
      "text/plain": [
       "LinearRegression(copy_X=True, fit_intercept=True, n_jobs=1, normalize=False)"
      ]
     },
     "execution_count": 17,
     "metadata": {},
     "output_type": "execute_result"
    }
   ],
   "source": [
    "from sklearn.linear_model import LinearRegression\n",
    "\n",
    "lin_model = LinearRegression()\n",
    "lin_model.fit(pred_train, tar_train)"
   ]
  },
  {
   "cell_type": "code",
   "execution_count": 18,
   "metadata": {},
   "outputs": [
    {
     "name": "stdout",
     "output_type": "stream",
     "text": [
      "model score: 0.453612632509\n"
     ]
    }
   ],
   "source": [
    "score = lin_model.score(pred_test, tar_test)\n",
    "print('model score: %s' % score)"
   ]
  },
  {
   "cell_type": "code",
   "execution_count": 14,
   "metadata": {},
   "outputs": [],
   "source": [
    "# temp_X = df_numeric[['sqft','Sidewalk Cafe','total_stations',\n",
    "#                      '$100,000 under $200,000','$200,000 or more',\n",
    "#                     'bedrooms','total_lines','Newsstand','Laundries']]"
   ]
  },
  {
   "cell_type": "code",
   "execution_count": 15,
   "metadata": {},
   "outputs": [],
   "source": [
    "# pred_train, pred_test, tar_train, tar_test = train_test_split(temp_X, \n",
    "#                             target, test_size=.3, random_state=123)\n",
    "\n",
    "# lin_model = LinearRegression()\n",
    "# lin_model.fit(pred_train, tar_train)"
   ]
  },
  {
   "cell_type": "code",
   "execution_count": 16,
   "metadata": {},
   "outputs": [],
   "source": [
    "# score = lin_model.score(pred_test, tar_test)\n",
    "# print('model score: %s' % score)"
   ]
  },
  {
   "cell_type": "code",
   "execution_count": 19,
   "metadata": {},
   "outputs": [],
   "source": [
    "from sklearn.tree import DecisionTreeRegressor\n",
    "from sklearn.ensemble import RandomForestRegressor\n",
    "\n",
    "features_to_use = list(X.columns)\n",
    "d = []"
   ]
  },
  {
   "cell_type": "code",
   "execution_count": 20,
   "metadata": {},
   "outputs": [],
   "source": [
    "n_features_remove = 1\n",
    "min_features = 4"
   ]
  },
  {
   "cell_type": "code",
   "execution_count": 21,
   "metadata": {},
   "outputs": [],
   "source": [
    "model_scores = []\n",
    "n_feats = []"
   ]
  },
  {
   "cell_type": "code",
   "execution_count": 22,
   "metadata": {},
   "outputs": [],
   "source": [
    "while len(features_to_use)>=min_features:\n",
    "    pred_trainRF = pred_train[features_to_use]\n",
    "    pred_testRF = pred_test[features_to_use]\n",
    "    \n",
    "    # Build regressor\n",
    "    rgr = DecisionTreeRegressor(random_state=0,max_depth=None)\n",
    "    rgr.fit(pred_trainRF, tar_train)\n",
    "    \n",
    "    # Model scores\n",
    "    r_score = rgr.score(pred_testRF, tar_test)\n",
    "    d.append({'score': r_score, 'n_features': len(features_to_use),\n",
    "             'features_used': ','.join(features_to_use),\n",
    "             'feature_importances': rgr.feature_importances_})\n",
    "    \n",
    "    # sort features by importance\n",
    "    sorted_idx = np.argsort(rgr.feature_importances_)\n",
    "    # reverse order\n",
    "    sorted_idx = sorted_idx[::-1]\n",
    "    # remove worst performing feature\n",
    "    sorted_idx = sorted_idx[:-n_features_remove]\n",
    "    \n",
    "    # swap features list with the trimmed features\n",
    "    temp = features_to_use\n",
    "    features_to_use=[]\n",
    "    for feat in sorted_idx:\n",
    "        features_to_use.append(temp[feat])\n",
    "\n",
    "results_df = pd.DataFrame(d)"
   ]
  },
  {
   "cell_type": "code",
   "execution_count": 23,
   "metadata": {},
   "outputs": [
    {
     "data": {
      "text/html": [
       "<div>\n",
       "<style>\n",
       "    .dataframe thead tr:only-child th {\n",
       "        text-align: right;\n",
       "    }\n",
       "\n",
       "    .dataframe thead th {\n",
       "        text-align: left;\n",
       "    }\n",
       "\n",
       "    .dataframe tbody tr th {\n",
       "        vertical-align: top;\n",
       "    }\n",
       "</style>\n",
       "<table border=\"1\" class=\"dataframe\">\n",
       "  <thead>\n",
       "    <tr style=\"text-align: right;\">\n",
       "      <th></th>\n",
       "      <th>feature_importances</th>\n",
       "      <th>features_used</th>\n",
       "      <th>n_features</th>\n",
       "      <th>score</th>\n",
       "    </tr>\n",
       "  </thead>\n",
       "  <tbody>\n",
       "    <tr>\n",
       "      <th>14</th>\n",
       "      <td>[0.399027010254, 0.297383259829, 0.06122047397...</td>\n",
       "      <td>sqft,$200000ormore,SidewalkCafe,$50000under$75...</td>\n",
       "      <td>19</td>\n",
       "      <td>0.712760</td>\n",
       "    </tr>\n",
       "    <tr>\n",
       "      <th>15</th>\n",
       "      <td>[0.398111149378, 0.29885682388, 0.059676331986...</td>\n",
       "      <td>sqft,$200000ormore,SidewalkCafe,$25000under$50...</td>\n",
       "      <td>18</td>\n",
       "      <td>0.709640</td>\n",
       "    </tr>\n",
       "    <tr>\n",
       "      <th>16</th>\n",
       "      <td>[0.399028745834, 0.299197369744, 0.04096291221...</td>\n",
       "      <td>sqft,$200000ormore,$50000under$75000,SidewalkC...</td>\n",
       "      <td>17</td>\n",
       "      <td>0.705722</td>\n",
       "    </tr>\n",
       "    <tr>\n",
       "      <th>17</th>\n",
       "      <td>[0.398743495791, 0.298941981742, 0.05995943556...</td>\n",
       "      <td>sqft,$200000ormore,SidewalkCafe,$50000under$75...</td>\n",
       "      <td>16</td>\n",
       "      <td>0.704479</td>\n",
       "    </tr>\n",
       "    <tr>\n",
       "      <th>18</th>\n",
       "      <td>[0.400065715561, 0.301222024219, 0.05847592132...</td>\n",
       "      <td>sqft,$200000ormore,SidewalkCafe,$50000under$75...</td>\n",
       "      <td>15</td>\n",
       "      <td>0.704350</td>\n",
       "    </tr>\n",
       "    <tr>\n",
       "      <th>0</th>\n",
       "      <td>[0.397175411699, 0.0362138882143, 0.0042776875...</td>\n",
       "      <td>sqft,bedrooms,total_parks,total_park_area,tota...</td>\n",
       "      <td>33</td>\n",
       "      <td>0.704222</td>\n",
       "    </tr>\n",
       "    <tr>\n",
       "      <th>25</th>\n",
       "      <td>[0.402736679888, 0.315129087376, 0.07312190978...</td>\n",
       "      <td>sqft,$200000ormore,SidewalkCafe,$50000under$75...</td>\n",
       "      <td>8</td>\n",
       "      <td>0.703202</td>\n",
       "    </tr>\n",
       "    <tr>\n",
       "      <th>6</th>\n",
       "      <td>[0.39786650056, 0.298340489691, 0.057020724648...</td>\n",
       "      <td>sqft,$200000ormore,SidewalkCafe,bedrooms,$5000...</td>\n",
       "      <td>27</td>\n",
       "      <td>0.701727</td>\n",
       "    </tr>\n",
       "    <tr>\n",
       "      <th>23</th>\n",
       "      <td>[0.401934271595, 0.303950219172, 0.06843790862...</td>\n",
       "      <td>sqft,$200000ormore,SidewalkCafe,$25000under$50...</td>\n",
       "      <td>10</td>\n",
       "      <td>0.700925</td>\n",
       "    </tr>\n",
       "    <tr>\n",
       "      <th>5</th>\n",
       "      <td>[0.397565025537, 0.297886418286, 0.05675076151...</td>\n",
       "      <td>sqft,$200000ormore,SidewalkCafe,$50000under$75...</td>\n",
       "      <td>28</td>\n",
       "      <td>0.700900</td>\n",
       "    </tr>\n",
       "  </tbody>\n",
       "</table>\n",
       "</div>"
      ],
      "text/plain": [
       "                                  feature_importances  \\\n",
       "14  [0.399027010254, 0.297383259829, 0.06122047397...   \n",
       "15  [0.398111149378, 0.29885682388, 0.059676331986...   \n",
       "16  [0.399028745834, 0.299197369744, 0.04096291221...   \n",
       "17  [0.398743495791, 0.298941981742, 0.05995943556...   \n",
       "18  [0.400065715561, 0.301222024219, 0.05847592132...   \n",
       "0   [0.397175411699, 0.0362138882143, 0.0042776875...   \n",
       "25  [0.402736679888, 0.315129087376, 0.07312190978...   \n",
       "6   [0.39786650056, 0.298340489691, 0.057020724648...   \n",
       "23  [0.401934271595, 0.303950219172, 0.06843790862...   \n",
       "5   [0.397565025537, 0.297886418286, 0.05675076151...   \n",
       "\n",
       "                                        features_used  n_features     score  \n",
       "14  sqft,$200000ormore,SidewalkCafe,$50000under$75...          19  0.712760  \n",
       "15  sqft,$200000ormore,SidewalkCafe,$25000under$50...          18  0.709640  \n",
       "16  sqft,$200000ormore,$50000under$75000,SidewalkC...          17  0.705722  \n",
       "17  sqft,$200000ormore,SidewalkCafe,$50000under$75...          16  0.704479  \n",
       "18  sqft,$200000ormore,SidewalkCafe,$50000under$75...          15  0.704350  \n",
       "0   sqft,bedrooms,total_parks,total_park_area,tota...          33  0.704222  \n",
       "25  sqft,$200000ormore,SidewalkCafe,$50000under$75...           8  0.703202  \n",
       "6   sqft,$200000ormore,SidewalkCafe,bedrooms,$5000...          27  0.701727  \n",
       "23  sqft,$200000ormore,SidewalkCafe,$25000under$50...          10  0.700925  \n",
       "5   sqft,$200000ormore,SidewalkCafe,$50000under$75...          28  0.700900  "
      ]
     },
     "execution_count": 23,
     "metadata": {},
     "output_type": "execute_result"
    }
   ],
   "source": [
    "results_df.sort_values(by='score',ascending=False,inplace=True)\n",
    "results_df.head(10)"
   ]
  },
  {
   "cell_type": "code",
   "execution_count": 24,
   "metadata": {},
   "outputs": [
    {
     "data": {
      "image/png": "[encoded data removed]",
      "text/plain": [
       "<matplotlib.figure.Figure at 0x10dec43c8>"
      ]
     },
     "metadata": {},
     "output_type": "display_data"
    }
   ],
   "source": [
    "import matplotlib.pylab as plt\n",
    "\n",
    "feature_names = results_df['features_used'].iloc[0]\n",
    "feature_names = feature_names.split(',')\n",
    "plt.figure()\n",
    "plt.title(\"Feature importances\")\n",
    "plt.bar(range(len(feature_names)), results_df['feature_importances'].iloc[0],\n",
    "       color=\"r\", align=\"center\")\n",
    "plt.xticks(range(len(feature_names)), feature_names)\n",
    "plt.xticks(rotation=90, size=8)\n",
    "plt.xlim([-1, len(feature_names)])\n",
    "plt.show()"
   ]
  },
  {
   "cell_type": "code",
   "execution_count": 25,
   "metadata": {},
   "outputs": [],
   "source": [
    "best_feature_names = results_df['features_used'].iloc[0]"
   ]
  },
  {
   "cell_type": "code",
   "execution_count": 26,
   "metadata": {},
   "outputs": [
    {
     "name": "stdout",
     "output_type": "stream",
     "text": [
      "['sqft', '$200000ormore', 'SidewalkCafe', '$50000under$75000', 'BURGLARY', 'bedrooms', 's_type', '$25000under$50000', 'Newsstand', 'total_park_area', 'DANGEROUSDRUGS', '2010TotalAcres', 'total_lines', 'total_parks', 'CigaretteRetailDealer', 'Laundry', 'TotalPop', '2010', 'total_projects']\n"
     ]
    }
   ],
   "source": [
    "best_feature_names = best_feature_names.split(',')\n",
    "print(best_feature_names)"
   ]
  },
  {
   "cell_type": "code",
   "execution_count": 27,
   "metadata": {},
   "outputs": [
    {
     "name": "stderr",
     "output_type": "stream",
     "text": [
      "/usr/local/lib/python3.6/site-packages/sklearn/grid_search.py:42: DeprecationWarning: This module was deprecated in version 0.18 in favor of the model_selection module into which all the refactored classes and functions are moved. This module will be removed in 0.20.\n",
      "  DeprecationWarning)\n"
     ]
    }
   ],
   "source": [
    "from sklearn.svm import SVR\n",
    "from sklearn.grid_search import GridSearchCV\n",
    "\n",
    "parameters = { 'gamma': np.linspace(.001,1,num=5), \n",
    "             'C': np.linspace(.001,1,num=5), \n",
    "              'epsilon': np.linspace(.001,1,num=5)}\n",
    "model = GridSearchCV(SVR(kernel='rbf'), \n",
    "                     parameters).fit(pred_train[best_feature_names],\n",
    "                                    tar_train)"
   ]
  },
  {
   "cell_type": "code",
   "execution_count": 29,
   "metadata": {},
   "outputs": [
    {
     "data": {
      "text/plain": [
       "-0.1462304317262475"
      ]
     },
     "execution_count": 29,
     "metadata": {},
     "output_type": "execute_result"
    }
   ],
   "source": [
    "model.score(pred_test[best_feature_names], tar_test)"
   ]
  }
 ],
 "metadata": {
  "kernelspec": {
   "display_name": "Python 3",
   "language": "python",
   "name": "python3"
  },
  "language_info": {
   "codemirror_mode": {
    "name": "ipython",
    "version": 3
   },
   "file_extension": ".py",
   "mimetype": "text/x-python",
   "name": "python",
   "nbconvert_exporter": "python",
   "pygments_lexer": "ipython3",
   "version": "3.6.2"
  }
 },
 "nbformat": 4,
 "nbformat_minor": 2
}
